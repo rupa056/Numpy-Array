{
  "nbformat": 4,
  "nbformat_minor": 0,
  "metadata": {
    "colab": {
      "provenance": []
    },
    "kernelspec": {
      "name": "python3",
      "display_name": "Python 3"
    },
    "language_info": {
      "name": "python"
    }
  },
  "cells": [
    {
      "cell_type": "markdown",
      "source": [],
      "metadata": {
        "id": "fOk_22iPgb6H"
      }
    },
    {
      "cell_type": "code",
      "source": [],
      "metadata": {
        "id": "lqttKZWkQ01g"
      },
      "execution_count": null,
      "outputs": []
    },
    {
      "cell_type": "code",
      "source": [],
      "metadata": {
        "id": "z7sYrXqQQ4dY"
      },
      "execution_count": null,
      "outputs": []
    },
    {
      "cell_type": "markdown",
      "source": [
        "1. Create a 1D NumPy array of integers from 10 to 20.\n",
        "2. Reshape a 1D array of integers from 1 to 16 into a 4x4 matrix.\n",
        "3.  Create a 2D array of shape (4, 5) with integers from 1 to 20 and access the element in the 3rd row and 4th column.\n",
        "4. Create a 2D array with shape (4, 6) and from the 2nd and 3rd rows, slice elements from index 2 to index 5.\n",
        "5. Convert a 1D array with 12 elements into a 3D array with shape (2, 3, 2). The outermost dimension will have 2 arrays that contain 3 arrays, each with 2 elements.\n",
        "6. Create a 1D array of 15 elements and reshape it into a 3x5 matrix. Then, extract the 2nd row as a 1D array.\n",
        "7. Create a 3D array with shape (2, 4, 3) and from the 1st array, slice elements from the 2nd and 3rd rows.\n",
        "8. Create a filter array that will return only even elements from the original array.\n",
        "9. Create a DataFrame with columns 'Product' and 'Price' with the following data: [['Apple', 1.2], ['Banana', 0.8], ['Cherry', 2.5]]. Filter the DataFrame to include only rows where Price is greater than 1.\n",
        "10. Create a DataFrame with columns 'Name' and 'Age' with the following data: [['Alice', 24], ['Bob', 19], ['Charlie', 22]]. Filter the DataFrame to include only rows where Age is greater less 20."
      ],
      "metadata": {
        "id": "QgMbsG0zeOLZ"
      }
    },
    {
      "cell_type": "code",
      "source": [
        "#ques1\n",
        "import numpy as np\n",
        "\n",
        "arr = np.array([10, 11, 12, 13, 14, 15, 16, 17, 18, 19, 20])\n",
        "\n",
        "print(arr)\n"
      ],
      "metadata": {
        "colab": {
          "base_uri": "https://localhost:8080/"
        },
        "id": "zyEXM7hbRkpC",
        "outputId": "e4eec695-56d1-442a-8a5f-bf7904a6b9c4"
      },
      "execution_count": null,
      "outputs": [
        {
          "output_type": "stream",
          "name": "stdout",
          "text": [
            "[10 11 12 13 14 15 16 17 18 19 20]\n"
          ]
        }
      ]
    },
    {
      "cell_type": "code",
      "source": [
        "#ques2\n",
        "import numpy as np\n",
        "\n",
        "arr = np.array([1, 2, 3, 4, 5, 6, 7, 8, 9, 10, 11, 12, 13, 14, 15, 16])\n",
        "newarr = arr.reshape(4, 4)\n",
        "\n",
        "print(newarr)"
      ],
      "metadata": {
        "colab": {
          "base_uri": "https://localhost:8080/"
        },
        "id": "VLQufKuFSE9D",
        "outputId": "ea77dc25-41de-47f6-b789-c2b74e0cc242"
      },
      "execution_count": null,
      "outputs": [
        {
          "output_type": "stream",
          "name": "stdout",
          "text": [
            "[[ 1  2  3  4]\n",
            " [ 5  6  7  8]\n",
            " [ 9 10 11 12]\n",
            " [13 14 15 16]]\n"
          ]
        }
      ]
    },
    {
      "cell_type": "code",
      "source": [
        "#ques3\n",
        "import numpy as np\n",
        "\n",
        "arr = np.array([[1, 2, 3, 4, 5, 6, 7, 8, 9, 10], [11, 12, 13, 14, 15, 16, 17, 18, 19, 20]])\n",
        "newarr = arr.reshape(4, 5)\n",
        "print('element of 3rd row and 4th column: ', newarr[2, 3])\n",
        "\n",
        "print(newarr)"
      ],
      "metadata": {
        "colab": {
          "base_uri": "https://localhost:8080/"
        },
        "id": "j_YbU26eTTPi",
        "outputId": "0a1dcd7f-5eba-4251-f9b2-c8b753fc8cba"
      },
      "execution_count": null,
      "outputs": [
        {
          "output_type": "stream",
          "name": "stdout",
          "text": [
            "element of 3rd row and 4th column:  14\n",
            "[[ 1  2  3  4  5]\n",
            " [ 6  7  8  9 10]\n",
            " [11 12 13 14 15]\n",
            " [16 17 18 19 20]]\n"
          ]
        }
      ]
    },
    {
      "cell_type": "code",
      "source": [
        "#ques4\n",
        "import numpy as np\n",
        "\n",
        "arr = np.array([[1, 2, 3, 4, 5, 6, 7, 8, 9, 10,11, 12], [13, 14, 15, 16, 17, 18, 19, 20, 21, 22, 23, 24]])\n",
        "newarr = arr.reshape(4, 6)\n",
        "print(newarr)\n",
        "print('result:')\n",
        "print(newarr[1:3, 2:5])"
      ],
      "metadata": {
        "colab": {
          "base_uri": "https://localhost:8080/"
        },
        "id": "2EjTyF30VjZh",
        "outputId": "d4ce8055-742b-4983-93cc-93d894397f5a"
      },
      "execution_count": 6,
      "outputs": [
        {
          "output_type": "stream",
          "name": "stdout",
          "text": [
            "[[ 1  2  3  4  5  6]\n",
            " [ 7  8  9 10 11 12]\n",
            " [13 14 15 16 17 18]\n",
            " [19 20 21 22 23 24]]\n",
            "result:\n",
            "[[ 9 10 11]\n",
            " [15 16 17]]\n"
          ]
        }
      ]
    },
    {
      "cell_type": "code",
      "source": [
        "#ques5\n",
        "import numpy as np\n",
        "arr = np.array([1, 2, 3, 4, 5, 6, 7, 8, 9, 10, 11, 12])\n",
        "newarr = arr.reshape(2, 3, 2)\n",
        "print('Result:')\n",
        "print(newarr)"
      ],
      "metadata": {
        "colab": {
          "base_uri": "https://localhost:8080/"
        },
        "id": "MsLk3VOmaCTX",
        "outputId": "7717fa60-3c4c-4a03-f0c3-c1b1fe895608"
      },
      "execution_count": 5,
      "outputs": [
        {
          "output_type": "stream",
          "name": "stdout",
          "text": [
            "Result:\n",
            "[[[ 1  2]\n",
            "  [ 3  4]\n",
            "  [ 5  6]]\n",
            "\n",
            " [[ 7  8]\n",
            "  [ 9 10]\n",
            "  [11 12]]]\n"
          ]
        }
      ]
    },
    {
      "cell_type": "code",
      "source": [
        "#ques6\n",
        "import numpy as np\n",
        "\n",
        "arr = np.array([1, 2, 3, 4, 5, 6, 7, 8, 9, 10, 11, 12, 13, 14, 15])\n",
        "newarr = arr.reshape(3,5)\n",
        "print('Result:', newarr)\n",
        "arr_1D = newarr[1]\n",
        "print('1D array of 2nd row is:', arr_1D)\n"
      ],
      "metadata": {
        "colab": {
          "base_uri": "https://localhost:8080/"
        },
        "id": "r-okEDpEbVaO",
        "outputId": "0a6a2fbd-a830-4180-bc21-e42bd05286d1"
      },
      "execution_count": null,
      "outputs": [
        {
          "output_type": "stream",
          "name": "stdout",
          "text": [
            "Result: [[ 1  2  3  4  5]\n",
            " [ 6  7  8  9 10]\n",
            " [11 12 13 14 15]]\n",
            "1D array of 2nd row is: [ 6  7  8  9 10]\n"
          ]
        }
      ]
    },
    {
      "cell_type": "code",
      "source": [
        "#ques7\n",
        "import numpy as np\n",
        "\n",
        "arr = np.array([[1, 2, 3, 4, 5, 6, 7, 8, 9, 10, 11, 12], [13, 14, 15, 16, 17, 18, 19, 20, 21, 22, 23, 24]])\n",
        "newarr = arr.reshape(2, 4, 3)\n",
        "print(newarr)\n",
        "sliced_elements = newarr[0, 1:3, :]\n",
        "print('result:')\n",
        "print( sliced_elements)\n"
      ],
      "metadata": {
        "colab": {
          "base_uri": "https://localhost:8080/"
        },
        "id": "TPfZKGHXfCnG",
        "outputId": "95d2105f-aec7-4b12-db17-c92e92a28dd0"
      },
      "execution_count": 4,
      "outputs": [
        {
          "output_type": "stream",
          "name": "stdout",
          "text": [
            "[[[ 1  2  3]\n",
            "  [ 4  5  6]\n",
            "  [ 7  8  9]\n",
            "  [10 11 12]]\n",
            "\n",
            " [[13 14 15]\n",
            "  [16 17 18]\n",
            "  [19 20 21]\n",
            "  [22 23 24]]]\n",
            "result:\n",
            "[[4 5 6]\n",
            " [7 8 9]]\n"
          ]
        }
      ]
    },
    {
      "cell_type": "code",
      "source": [
        "#ques8\n",
        "import numpy as np\n",
        "\n",
        "arr = np.array([[1, 2, 3, 4, 5, 6, 7, 8, 9, 10, 11, 12], [13, 14, 15, 16, 17, 18, 19, 20, 21, 22, 23, 24]])\n",
        "\n",
        "newarr = arr.reshape(2, 4, 3)\n",
        "print(\"3D Array:\")\n",
        "print(newarr)\n",
        "\n",
        "filter_array = (newarr % 2 == 0)\n",
        "\n",
        "even_elements = newarr[filter_array]\n",
        "print(\"Even Elements:\")\n",
        "print(even_elements)"
      ],
      "metadata": {
        "colab": {
          "base_uri": "https://localhost:8080/"
        },
        "id": "q2KaQ9E5O-zW",
        "outputId": "e10ff0e0-4e9b-4715-eddd-8e021af7c8f6"
      },
      "execution_count": 2,
      "outputs": [
        {
          "output_type": "stream",
          "name": "stdout",
          "text": [
            "3D Array:\n",
            "[[[ 1  2  3]\n",
            "  [ 4  5  6]\n",
            "  [ 7  8  9]\n",
            "  [10 11 12]]\n",
            "\n",
            " [[13 14 15]\n",
            "  [16 17 18]\n",
            "  [19 20 21]\n",
            "  [22 23 24]]]\n",
            "Even Elements:\n",
            "[ 2  4  6  8 10 12 14 16 18 20 22 24]\n"
          ]
        }
      ]
    },
    {
      "cell_type": "code",
      "source": [
        "#ques9\n",
        "import numpy as np\n",
        "import pandas as pd\n",
        "\n",
        "data = [['Apple', 1.2], ['Banana', 0.8], ['Cherry', 2.5]]\n",
        "df = pd.DataFrame(data, columns=['Product', 'Price'])\n",
        "print(df)\n",
        "\n",
        "filtered_df = df[df['Price'] > 1]\n",
        "print(\"Filtered Data (Price > 1):\")\n",
        "print(filtered_df)\n"
      ],
      "metadata": {
        "colab": {
          "base_uri": "https://localhost:8080/"
        },
        "id": "63mjGOiEQ8UK",
        "outputId": "d449005d-23a9-4b68-b5dc-c42a5c813970"
      },
      "execution_count": 14,
      "outputs": [
        {
          "output_type": "stream",
          "name": "stdout",
          "text": [
            "  Product  Price\n",
            "0   Apple    1.2\n",
            "1  Banana    0.8\n",
            "2  Cherry    2.5\n",
            "Filtered Data (Price > 1):\n",
            "  Product  Price\n",
            "0   Apple    1.2\n",
            "2  Cherry    2.5\n"
          ]
        }
      ]
    },
    {
      "cell_type": "code",
      "source": [
        "#ques9\n",
        "import numpy as np\n",
        "import pandas as pd\n",
        "\n",
        "data_np = np.array([('Alice', 24), ('Bob', 19), ('Charlie', 22)], dtype=[('Name', 'U10'), ('Age', 'i4')])\n",
        "print(\"Original Structured Array:\")\n",
        "print(data_np)\n",
        "\n",
        "df = pd.DataFrame(data_np)\n",
        "print(\"DataFrame:\")\n",
        "print(df)\n",
        "\n",
        "filtered_df = df[df['Age'] < 20]\n",
        "print(\"Filtered DataFrame (Age < 20):\")\n",
        "print(filtered_df)\n",
        "\n"
      ],
      "metadata": {
        "colab": {
          "base_uri": "https://localhost:8080/"
        },
        "id": "DGRWsEuASI05",
        "outputId": "e37982f1-9bb2-4017-8bbf-1dfec39ca680"
      },
      "execution_count": 13,
      "outputs": [
        {
          "output_type": "stream",
          "name": "stdout",
          "text": [
            "Original Structured Array:\n",
            "[('Alice', 24) ('Bob', 19) ('Charlie', 22)]\n",
            "DataFrame:\n",
            "      Name  Age\n",
            "0    Alice   24\n",
            "1      Bob   19\n",
            "2  Charlie   22\n",
            "Filtered DataFrame (Age < 20):\n",
            "  Name  Age\n",
            "1  Bob   19\n"
          ]
        }
      ]
    }
  ]
}